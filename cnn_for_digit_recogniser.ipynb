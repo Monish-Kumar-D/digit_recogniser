{
  "metadata": {
    "kernelspec": {
      "language": "python",
      "display_name": "Python 3",
      "name": "python3"
    },
    "language_info": {
      "name": "python",
      "version": "3.10.13",
      "mimetype": "text/x-python",
      "codemirror_mode": {
        "name": "ipython",
        "version": 3
      },
      "pygments_lexer": "ipython3",
      "nbconvert_exporter": "python",
      "file_extension": ".py"
    },
    "kaggle": {
      "accelerator": "none",
      "dataSources": [
        {
          "sourceId": 3004,
          "databundleVersionId": 861823,
          "sourceType": "competition"
        }
      ],
      "dockerImageVersionId": 30732,
      "isInternetEnabled": true,
      "language": "python",
      "sourceType": "notebook",
      "isGpuEnabled": false
    },
    "colab": {
      "name": "CNN algorithm using TensorFlow 93.28% accuracy :)",
      "provenance": [],
      "include_colab_link": true
    }
  },
  "nbformat_minor": 0,
  "nbformat": 4,
  "cells": [
    {
      "cell_type": "markdown",
      "metadata": {
        "id": "view-in-github",
        "colab_type": "text"
      },
      "source": [
        "<a href=\"https://colab.research.google.com/github/Monish-Kumar-D/digit_recogniser/blob/main/cnn_for_digit_recogniser.ipynb\" target=\"_parent\"><img src=\"https://colab.research.google.com/assets/colab-badge.svg\" alt=\"Open In Colab\"/></a>"
      ]
    },
    {
      "source": [
        "\n",
        "# IMPORTANT: RUN THIS CELL IN ORDER TO IMPORT YOUR KAGGLE DATA SOURCES\n",
        "# TO THE CORRECT LOCATION (/kaggle/input) IN YOUR NOTEBOOK,\n",
        "# THEN FEEL FREE TO DELETE THIS CELL.\n",
        "# NOTE: THIS NOTEBOOK ENVIRONMENT DIFFERS FROM KAGGLE'S PYTHON\n",
        "# ENVIRONMENT SO THERE MAY BE MISSING LIBRARIES USED BY YOUR\n",
        "# NOTEBOOK.\n",
        "\n",
        "import os\n",
        "import sys\n",
        "from tempfile import NamedTemporaryFile\n",
        "from urllib.request import urlopen\n",
        "from urllib.parse import unquote, urlparse\n",
        "from urllib.error import HTTPError\n",
        "from zipfile import ZipFile\n",
        "import tarfile\n",
        "import shutil\n",
        "\n",
        "CHUNK_SIZE = 40960\n",
        "DATA_SOURCE_MAPPING = 'digit-recognizer:https%3A%2F%2Fstorage.googleapis.com%2Fkaggle-competitions-data%2Fkaggle-v2%2F3004%2F861823%2Fbundle%2Farchive.zip%3FX-Goog-Algorithm%3DGOOG4-RSA-SHA256%26X-Goog-Credential%3Dgcp-kaggle-com%2540kaggle-161607.iam.gserviceaccount.com%252F20240714%252Fauto%252Fstorage%252Fgoog4_request%26X-Goog-Date%3D20240714T150812Z%26X-Goog-Expires%3D259200%26X-Goog-SignedHeaders%3Dhost%26X-Goog-Signature%3D354437b46bb26fa108d1880d811ce324a36e5acb38f071da75cb87de20abf7217b60de1d5d22710ec76848be89021a1c78b64d8b8e369b1aab29c95392b1979a055bed25b0490a3322247e00aefdf967b44c86af5b88967b940fff0e50c0d881ac4a3baac0dccf713837f575ce8c78112b3f7ff3ca35ce7b0b0b42d16753f4858abffb425880865ab6694c165539bd0369750320dc92c1f2a768c808bd4b610a19c39733d4d5366aaf5fa67dfc2b7c01c1b92fec19404eae1552fbbbbfa517e20640fd71bffa43b92ff71f75bd0c16b88e01a3d13aa01dca8d863ceea403adcd423bd1fd3825dc3dffe1b1c9afe387c2e161abb6316ab2c32af485cb5d0e643d'\n",
        "\n",
        "KAGGLE_INPUT_PATH='/kaggle/input'\n",
        "KAGGLE_WORKING_PATH='/kaggle/working'\n",
        "KAGGLE_SYMLINK='kaggle'\n",
        "\n",
        "!umount /kaggle/input/ 2> /dev/null\n",
        "shutil.rmtree('/kaggle/input', ignore_errors=True)\n",
        "os.makedirs(KAGGLE_INPUT_PATH, 0o777, exist_ok=True)\n",
        "os.makedirs(KAGGLE_WORKING_PATH, 0o777, exist_ok=True)\n",
        "\n",
        "try:\n",
        "  os.symlink(KAGGLE_INPUT_PATH, os.path.join(\"..\", 'input'), target_is_directory=True)\n",
        "except FileExistsError:\n",
        "  pass\n",
        "try:\n",
        "  os.symlink(KAGGLE_WORKING_PATH, os.path.join(\"..\", 'working'), target_is_directory=True)\n",
        "except FileExistsError:\n",
        "  pass\n",
        "\n",
        "for data_source_mapping in DATA_SOURCE_MAPPING.split(','):\n",
        "    directory, download_url_encoded = data_source_mapping.split(':')\n",
        "    download_url = unquote(download_url_encoded)\n",
        "    filename = urlparse(download_url).path\n",
        "    destination_path = os.path.join(KAGGLE_INPUT_PATH, directory)\n",
        "    try:\n",
        "        with urlopen(download_url) as fileres, NamedTemporaryFile() as tfile:\n",
        "            total_length = fileres.headers['content-length']\n",
        "            print(f'Downloading {directory}, {total_length} bytes compressed')\n",
        "            dl = 0\n",
        "            data = fileres.read(CHUNK_SIZE)\n",
        "            while len(data) > 0:\n",
        "                dl += len(data)\n",
        "                tfile.write(data)\n",
        "                done = int(50 * dl / int(total_length))\n",
        "                sys.stdout.write(f\"\\r[{'=' * done}{' ' * (50-done)}] {dl} bytes downloaded\")\n",
        "                sys.stdout.flush()\n",
        "                data = fileres.read(CHUNK_SIZE)\n",
        "            if filename.endswith('.zip'):\n",
        "              with ZipFile(tfile) as zfile:\n",
        "                zfile.extractall(destination_path)\n",
        "            else:\n",
        "              with tarfile.open(tfile.name) as tarfile:\n",
        "                tarfile.extractall(destination_path)\n",
        "            print(f'\\nDownloaded and uncompressed: {directory}')\n",
        "    except HTTPError as e:\n",
        "        print(f'Failed to load (likely expired) {download_url} to path {destination_path}')\n",
        "        continue\n",
        "    except OSError as e:\n",
        "        print(f'Failed to load {download_url} to path {destination_path}')\n",
        "        continue\n",
        "\n",
        "print('Data source import complete.')\n"
      ],
      "metadata": {
        "id": "aQIrwyRoyZl_"
      },
      "cell_type": "code",
      "outputs": [],
      "execution_count": null
    },
    {
      "cell_type": "code",
      "source": [
        "# This Python 3 environment comes with many helpful analytics libraries installed\n",
        "# It is defined by the kaggle/python Docker image: https://github.com/kaggle/docker-python\n",
        "# For example, here's several helpful packages to load\n",
        "\n",
        "import numpy as np # linear algebra\n",
        "import pandas as pd # data processing, CSV file I/O (e.g. pd.read_csv)\n",
        "\n",
        "# Input data files are available in the read-only \"../input/\" directory\n",
        "# For example, running this (by clicking run or pressing Shift+Enter) will list all files under the input directory\n",
        "\n",
        "import os\n",
        "for dirname, _, filenames in os.walk('/kaggle/input'):\n",
        "    for filename in filenames:\n",
        "        print(os.path.join(dirname, filename))\n",
        "\n",
        "# You can write up to 20GB to the current directory (/kaggle/working/) that gets preserved as output when you create a version using \"Save & Run All\"\n",
        "# You can also write temporary files to /kaggle/temp/, but they won't be saved outside of the current session"
      ],
      "metadata": {
        "_uuid": "8f2839f25d086af736a60e9eeb907d3b93b6e0e5",
        "_cell_guid": "b1076dfc-b9ad-4769-8c92-a6c4dae69d19",
        "execution": {
          "iopub.status.busy": "2024-06-28T09:01:29.684454Z",
          "iopub.execute_input": "2024-06-28T09:01:29.68493Z",
          "iopub.status.idle": "2024-06-28T09:01:30.947012Z",
          "shell.execute_reply.started": "2024-06-28T09:01:29.684886Z",
          "shell.execute_reply": "2024-06-28T09:01:30.945615Z"
        },
        "trusted": true,
        "id": "tQLp-mfjyZmL"
      },
      "execution_count": null,
      "outputs": []
    },
    {
      "cell_type": "code",
      "source": [
        "import tensorflow as tf\n",
        "import numpy as np\n",
        "import matplotlib.pyplot as plt\n",
        "from sklearn.model_selection import train_test_split"
      ],
      "metadata": {
        "execution": {
          "iopub.status.busy": "2024-06-28T09:03:38.141712Z",
          "iopub.execute_input": "2024-06-28T09:03:38.143262Z",
          "iopub.status.idle": "2024-06-28T09:03:38.303711Z",
          "shell.execute_reply.started": "2024-06-28T09:03:38.143218Z",
          "shell.execute_reply": "2024-06-28T09:03:38.302561Z"
        },
        "trusted": true,
        "id": "eIqSkKUUyZmN"
      },
      "execution_count": null,
      "outputs": []
    },
    {
      "cell_type": "code",
      "source": [
        "df = pd.read_csv('/kaggle/input/digit-recognizer/train.csv')\n",
        "df"
      ],
      "metadata": {
        "execution": {
          "iopub.status.busy": "2024-06-28T09:02:55.173935Z",
          "iopub.execute_input": "2024-06-28T09:02:55.174335Z",
          "iopub.status.idle": "2024-06-28T09:02:58.501198Z",
          "shell.execute_reply.started": "2024-06-28T09:02:55.174305Z",
          "shell.execute_reply": "2024-06-28T09:02:58.4999Z"
        },
        "trusted": true,
        "id": "D1-V7EuoyZmP"
      },
      "execution_count": null,
      "outputs": []
    },
    {
      "cell_type": "code",
      "source": [
        "X = df.drop(columns = ['label'])\n",
        "Y = df.label"
      ],
      "metadata": {
        "execution": {
          "iopub.status.busy": "2024-06-28T09:04:58.352004Z",
          "iopub.execute_input": "2024-06-28T09:04:58.353243Z",
          "iopub.status.idle": "2024-06-28T09:04:58.461952Z",
          "shell.execute_reply.started": "2024-06-28T09:04:58.353202Z",
          "shell.execute_reply": "2024-06-28T09:04:58.460658Z"
        },
        "trusted": true,
        "id": "5xlODwElyZmQ"
      },
      "execution_count": null,
      "outputs": []
    },
    {
      "cell_type": "code",
      "source": [
        "x_train, x_test, y_train, y_test = train_test_split(X,Y,test_size = 0.2)"
      ],
      "metadata": {
        "execution": {
          "iopub.status.busy": "2024-06-28T09:05:16.021462Z",
          "iopub.execute_input": "2024-06-28T09:05:16.021917Z",
          "iopub.status.idle": "2024-06-28T09:05:16.305155Z",
          "shell.execute_reply.started": "2024-06-28T09:05:16.021883Z",
          "shell.execute_reply": "2024-06-28T09:05:16.303903Z"
        },
        "trusted": true,
        "id": "bhGXXDhuyZmR"
      },
      "execution_count": null,
      "outputs": []
    },
    {
      "cell_type": "code",
      "source": [
        "x_train, x_test = x_train / 255.0, x_test / 255.0"
      ],
      "metadata": {
        "execution": {
          "iopub.status.busy": "2024-06-28T09:05:27.191636Z",
          "iopub.execute_input": "2024-06-28T09:05:27.192679Z",
          "iopub.status.idle": "2024-06-28T09:05:27.271765Z",
          "shell.execute_reply.started": "2024-06-28T09:05:27.19264Z",
          "shell.execute_reply": "2024-06-28T09:05:27.270099Z"
        },
        "trusted": true,
        "id": "mx1sMPOeyZmS"
      },
      "execution_count": null,
      "outputs": []
    },
    {
      "cell_type": "code",
      "source": [
        "print(y_train[0:5])"
      ],
      "metadata": {
        "execution": {
          "iopub.status.busy": "2024-06-28T09:05:38.392965Z",
          "iopub.execute_input": "2024-06-28T09:05:38.39335Z",
          "iopub.status.idle": "2024-06-28T09:05:38.400497Z",
          "shell.execute_reply.started": "2024-06-28T09:05:38.393322Z",
          "shell.execute_reply": "2024-06-28T09:05:38.399154Z"
        },
        "trusted": true,
        "id": "tnaVyDKlyZmT"
      },
      "execution_count": null,
      "outputs": []
    },
    {
      "cell_type": "code",
      "source": [
        "print(\"categorical labels\")\n",
        "print(y_train[0:5])\n",
        "\n",
        "y_train = tf.one_hot(y_train, 10)\n",
        "y_test = tf.one_hot(y_test, 10)\n",
        "\n",
        "print(\"one hot encoded labels\")\n",
        "print(y_train[0:5])"
      ],
      "metadata": {
        "execution": {
          "iopub.status.busy": "2024-06-28T09:05:50.112006Z",
          "iopub.execute_input": "2024-06-28T09:05:50.112438Z",
          "iopub.status.idle": "2024-06-28T09:05:50.163685Z",
          "shell.execute_reply.started": "2024-06-28T09:05:50.112404Z",
          "shell.execute_reply": "2024-06-28T09:05:50.162578Z"
        },
        "trusted": true,
        "id": "gAdpw-KuyZmV"
      },
      "execution_count": null,
      "outputs": []
    },
    {
      "cell_type": "code",
      "source": [
        "print(\"number of training examples:\" , x_train.shape[0])\n",
        "print(\"number of test examples:\" , x_test.shape[0])"
      ],
      "metadata": {
        "execution": {
          "iopub.status.busy": "2024-06-28T09:06:08.792497Z",
          "iopub.execute_input": "2024-06-28T09:06:08.792953Z",
          "iopub.status.idle": "2024-06-28T09:06:08.800393Z",
          "shell.execute_reply.started": "2024-06-28T09:06:08.792918Z",
          "shell.execute_reply": "2024-06-28T09:06:08.798696Z"
        },
        "trusted": true,
        "id": "BV65ScOMyZmX"
      },
      "execution_count": null,
      "outputs": []
    },
    {
      "cell_type": "code",
      "source": [
        "train_ds = tf.data.Dataset.from_tensor_slices((x_train, y_train)).batch(50)\n",
        "test_ds = tf.data.Dataset.from_tensor_slices((x_test, y_test)).batch(50)"
      ],
      "metadata": {
        "execution": {
          "iopub.status.busy": "2024-06-28T09:06:20.622519Z",
          "iopub.execute_input": "2024-06-28T09:06:20.62297Z",
          "iopub.status.idle": "2024-06-28T09:06:21.088205Z",
          "shell.execute_reply.started": "2024-06-28T09:06:20.622938Z",
          "shell.execute_reply": "2024-06-28T09:06:21.086912Z"
        },
        "trusted": true,
        "id": "Sw273cT9yZmY"
      },
      "execution_count": null,
      "outputs": []
    },
    {
      "cell_type": "code",
      "source": [
        "from tensorflow.keras.layers import Flatten\n",
        "flatten = Flatten(dtype='float32')\n",
        "\n",
        "\"original data shape\"\n",
        "print(x_train.shape)\n",
        "\n",
        "\"flattened shape\"\n",
        "print(flatten(x_train).shape)"
      ],
      "metadata": {
        "execution": {
          "iopub.status.busy": "2024-06-28T09:06:32.611852Z",
          "iopub.execute_input": "2024-06-28T09:06:32.61224Z",
          "iopub.status.idle": "2024-06-28T09:06:32.873982Z",
          "shell.execute_reply.started": "2024-06-28T09:06:32.612211Z",
          "shell.execute_reply": "2024-06-28T09:06:32.872702Z"
        },
        "trusted": true,
        "id": "4BqDOZBjyZmZ"
      },
      "execution_count": null,
      "outputs": []
    },
    {
      "cell_type": "code",
      "source": [
        "W = tf.Variable(tf.zeros([784, 10], tf.float32))\n",
        "b = tf.Variable(tf.zeros([10], tf.float32))"
      ],
      "metadata": {
        "execution": {
          "iopub.status.busy": "2024-06-28T09:06:58.243375Z",
          "iopub.execute_input": "2024-06-28T09:06:58.24377Z",
          "iopub.status.idle": "2024-06-28T09:06:58.260255Z",
          "shell.execute_reply.started": "2024-06-28T09:06:58.243742Z",
          "shell.execute_reply": "2024-06-28T09:06:58.258562Z"
        },
        "trusted": true,
        "id": "wf6re3PqyZmZ"
      },
      "execution_count": null,
      "outputs": []
    },
    {
      "cell_type": "code",
      "source": [
        "def forward(x):\n",
        "    return tf.matmul(x,W) + b"
      ],
      "metadata": {
        "execution": {
          "iopub.status.busy": "2024-06-28T09:30:56.331154Z",
          "iopub.execute_input": "2024-06-28T09:30:56.331582Z",
          "iopub.status.idle": "2024-06-28T09:30:56.337231Z",
          "shell.execute_reply.started": "2024-06-28T09:30:56.331547Z",
          "shell.execute_reply": "2024-06-28T09:30:56.336067Z"
        },
        "trusted": true,
        "id": "fGvFIMWDyZma"
      },
      "execution_count": null,
      "outputs": []
    },
    {
      "cell_type": "code",
      "source": [
        "vector = [10, 0.2, 8]\n",
        "softmax = tf.nn.softmax(vector)\n",
        "print(\"softmax calculation\")\n",
        "print(softmax.numpy())\n",
        "print(\"verifying normalization\")\n",
        "print(tf.reduce_sum(softmax))\n",
        "print(\"finding vector with largest value (label assignment)\")\n",
        "print(\"category\", tf.argmax(softmax).numpy())"
      ],
      "metadata": {
        "execution": {
          "iopub.status.busy": "2024-06-28T09:07:18.861764Z",
          "iopub.execute_input": "2024-06-28T09:07:18.86233Z",
          "iopub.status.idle": "2024-06-28T09:07:18.887283Z",
          "shell.execute_reply.started": "2024-06-28T09:07:18.862291Z",
          "shell.execute_reply": "2024-06-28T09:07:18.885183Z"
        },
        "trusted": true,
        "id": "naekB0mCyZma"
      },
      "execution_count": null,
      "outputs": []
    },
    {
      "cell_type": "code",
      "source": [
        "def activate(x):\n",
        "    return tf.nn.softmax(forward(x))"
      ],
      "metadata": {
        "execution": {
          "iopub.status.busy": "2024-06-28T09:07:33.923138Z",
          "iopub.execute_input": "2024-06-28T09:07:33.923527Z",
          "iopub.status.idle": "2024-06-28T09:07:33.929597Z",
          "shell.execute_reply.started": "2024-06-28T09:07:33.923498Z",
          "shell.execute_reply": "2024-06-28T09:07:33.928208Z"
        },
        "trusted": true,
        "id": "n-v1Z7xJyZmb"
      },
      "execution_count": null,
      "outputs": []
    },
    {
      "cell_type": "code",
      "source": [
        "def model(x):\n",
        "    x = flatten(x)\n",
        "    return activate(x)"
      ],
      "metadata": {
        "execution": {
          "iopub.status.busy": "2024-06-28T09:07:42.571636Z",
          "iopub.execute_input": "2024-06-28T09:07:42.572068Z",
          "iopub.status.idle": "2024-06-28T09:07:42.578066Z",
          "shell.execute_reply.started": "2024-06-28T09:07:42.572036Z",
          "shell.execute_reply": "2024-06-28T09:07:42.57675Z"
        },
        "trusted": true,
        "id": "OXqAuquTyZmb"
      },
      "execution_count": null,
      "outputs": []
    },
    {
      "cell_type": "code",
      "source": [
        "def cross_entropy(y_label, y_pred):\n",
        "    return (-tf.reduce_sum(y_label * tf.math.log(y_pred + 1.e-10)))\n",
        "cross_entropy(y_train, model(x_train)).numpy()"
      ],
      "metadata": {
        "execution": {
          "iopub.status.busy": "2024-06-28T09:07:51.171629Z",
          "iopub.execute_input": "2024-06-28T09:07:51.172081Z",
          "iopub.status.idle": "2024-06-28T09:07:51.452938Z",
          "shell.execute_reply.started": "2024-06-28T09:07:51.17205Z",
          "shell.execute_reply": "2024-06-28T09:07:51.451801Z"
        },
        "trusted": true,
        "id": "82gnB0vcyZmc"
      },
      "execution_count": null,
      "outputs": []
    },
    {
      "cell_type": "code",
      "source": [
        "optimizer = tf.keras.optimizers.SGD(learning_rate=0.25)"
      ],
      "metadata": {
        "execution": {
          "iopub.status.busy": "2024-06-28T09:08:04.601315Z",
          "iopub.execute_input": "2024-06-28T09:08:04.601852Z",
          "iopub.status.idle": "2024-06-28T09:08:04.61623Z",
          "shell.execute_reply.started": "2024-06-28T09:08:04.601792Z",
          "shell.execute_reply": "2024-06-28T09:08:04.614943Z"
        },
        "trusted": true,
        "id": "hrISaPuayZmc"
      },
      "execution_count": null,
      "outputs": []
    },
    {
      "cell_type": "code",
      "source": [
        "def train_step(x, y ):\n",
        "    with tf.GradientTape() as tape:\n",
        "        current_loss = cross_entropy( y, model(x))\n",
        "        grads = tape.gradient( current_loss , [W,b] )\n",
        "        optimizer.apply_gradients( zip( grads , [W,b] ) )\n",
        "    return current_loss.numpy()"
      ],
      "metadata": {
        "execution": {
          "iopub.status.busy": "2024-06-28T09:08:13.262439Z",
          "iopub.execute_input": "2024-06-28T09:08:13.263212Z",
          "iopub.status.idle": "2024-06-28T09:08:13.270104Z",
          "shell.execute_reply.started": "2024-06-28T09:08:13.263173Z",
          "shell.execute_reply": "2024-06-28T09:08:13.26888Z"
        },
        "trusted": true,
        "id": "dT6xg9WsyZmd"
      },
      "execution_count": null,
      "outputs": []
    },
    {
      "cell_type": "code",
      "source": [
        "W = tf.Variable(tf.zeros([784, 10],tf.float32))\n",
        "b = tf.Variable(tf.zeros([10],tf.float32))\n",
        "\n",
        "loss_values=[]\n",
        "accuracies = []\n",
        "epochs = 10\n",
        "\n",
        "for i in range(epochs):\n",
        "    j=0\n",
        "    for x_train_batch, y_train_batch in train_ds:\n",
        "        j+=1\n",
        "        current_loss = train_step(x_train_batch, y_train_batch)\n",
        "        if j%500==0:\n",
        "            print(\"epoch \", str(i), \"batch\", str(j), \"loss:\", str(current_loss) )\n",
        "\n",
        "    current_loss = cross_entropy( y_train, model( x_train )).numpy()\n",
        "    loss_values.append(current_loss)\n",
        "    correct_prediction = tf.equal(tf.argmax(model(x_train), axis=1),\n",
        "                                  tf.argmax(y_train, axis=1))\n",
        "\n",
        "    accuracy = tf.reduce_mean(tf.cast(correct_prediction, tf.float32)).numpy()\n",
        "    accuracies.append(accuracy)\n",
        "    print(\"end of epoch \", str(i), \"loss\", str(current_loss), \"accuracy\", str(accuracy) )\n"
      ],
      "metadata": {
        "execution": {
          "iopub.status.busy": "2024-06-28T09:08:30.222049Z",
          "iopub.execute_input": "2024-06-28T09:08:30.22248Z",
          "iopub.status.idle": "2024-06-28T09:09:24.593997Z",
          "shell.execute_reply.started": "2024-06-28T09:08:30.222448Z",
          "shell.execute_reply": "2024-06-28T09:09:24.592683Z"
        },
        "trusted": true,
        "id": "LzWDA2dVyZmd"
      },
      "execution_count": null,
      "outputs": []
    },
    {
      "cell_type": "code",
      "source": [
        "correct_prediction_train = tf.equal(tf.argmax(model(x_train), axis=1),tf.argmax(y_train,axis=1))\n",
        "accuracy_train = tf.reduce_mean(tf.cast(correct_prediction_train, tf.float32)).numpy()\n",
        "\n",
        "correct_prediction_test = tf.equal(tf.argmax(model(x_test), axis=1),tf.argmax(y_test, axis=1))\n",
        "accuracy_test = tf.reduce_mean(tf.cast(correct_prediction_test, tf.float32)).numpy()\n",
        "\n",
        "print(\"training accuracy\", accuracy_train)\n",
        "print(\"test accuracy\", accuracy_test)"
      ],
      "metadata": {
        "execution": {
          "iopub.status.busy": "2024-06-28T09:09:34.456776Z",
          "iopub.execute_input": "2024-06-28T09:09:34.457195Z",
          "iopub.status.idle": "2024-06-28T09:09:34.718296Z",
          "shell.execute_reply.started": "2024-06-28T09:09:34.457164Z",
          "shell.execute_reply": "2024-06-28T09:09:34.716995Z"
        },
        "trusted": true,
        "id": "F71TKua2yZmd"
      },
      "execution_count": null,
      "outputs": []
    },
    {
      "cell_type": "code",
      "source": [
        "import matplotlib.pyplot as plt\n",
        "%matplotlib inline\n",
        "plt.rcParams['figure.figsize'] = (10, 6)\n",
        "\n",
        "plt.plot(loss_values,'-ro')\n",
        "plt.title(\"loss per epoch\")\n",
        "plt.xlabel(\"epoch\")\n",
        "plt.ylabel(\"loss\")"
      ],
      "metadata": {
        "execution": {
          "iopub.status.busy": "2024-06-28T09:09:45.983195Z",
          "iopub.execute_input": "2024-06-28T09:09:45.984Z",
          "iopub.status.idle": "2024-06-28T09:09:46.394103Z",
          "shell.execute_reply.started": "2024-06-28T09:09:45.983961Z",
          "shell.execute_reply": "2024-06-28T09:09:46.392736Z"
        },
        "trusted": true,
        "id": "JIyYxNr-yZme"
      },
      "execution_count": null,
      "outputs": []
    },
    {
      "cell_type": "code",
      "source": [
        "plt.plot(accuracies,'-ro')\n",
        "plt.title(\"accuracy per epoch\")\n",
        "plt.xlabel(\"epoch\")\n",
        "plt.ylabel(\"accuracy\")"
      ],
      "metadata": {
        "execution": {
          "iopub.status.busy": "2024-06-28T09:09:58.235111Z",
          "iopub.execute_input": "2024-06-28T09:09:58.236149Z",
          "iopub.status.idle": "2024-06-28T09:09:58.529155Z",
          "shell.execute_reply.started": "2024-06-28T09:09:58.236107Z",
          "shell.execute_reply": "2024-06-28T09:09:58.527614Z"
        },
        "trusted": true,
        "id": "9s0GNyHFyZme"
      },
      "execution_count": null,
      "outputs": []
    },
    {
      "cell_type": "code",
      "source": [
        "width = 28\n",
        "height = 28\n",
        "flat = width * height\n",
        "class_output = 10"
      ],
      "metadata": {
        "execution": {
          "iopub.status.busy": "2024-06-28T09:10:12.452199Z",
          "iopub.execute_input": "2024-06-28T09:10:12.452608Z",
          "iopub.status.idle": "2024-06-28T09:10:12.458538Z",
          "shell.execute_reply.started": "2024-06-28T09:10:12.452575Z",
          "shell.execute_reply": "2024-06-28T09:10:12.457255Z"
        },
        "trusted": true,
        "id": "aSscusEtyZme"
      },
      "execution_count": null,
      "outputs": []
    },
    {
      "cell_type": "code",
      "source": [
        "x_image_train = tf.reshape(x_train, [-1,28,28,1])\n",
        "x_image_train = tf.cast(x_image_train, 'float32')\n",
        "\n",
        "x_image_test = tf.reshape(x_test, [-1,28,28,1])\n",
        "x_image_test = tf.cast(x_image_test, 'float32')\n",
        "\n",
        "\n",
        "train_ds2 = tf.data.Dataset.from_tensor_slices((x_image_train, y_train)).batch(50)\n",
        "test_ds2 = tf.data.Dataset.from_tensor_slices((x_image_test, y_test)).batch(50)"
      ],
      "metadata": {
        "execution": {
          "iopub.status.busy": "2024-06-28T09:10:21.451861Z",
          "iopub.execute_input": "2024-06-28T09:10:21.452276Z",
          "iopub.status.idle": "2024-06-28T09:10:21.920019Z",
          "shell.execute_reply.started": "2024-06-28T09:10:21.452243Z",
          "shell.execute_reply": "2024-06-28T09:10:21.918819Z"
        },
        "trusted": true,
        "id": "AavrslLCyZme"
      },
      "execution_count": null,
      "outputs": []
    },
    {
      "cell_type": "code",
      "source": [
        "x_image_train = tf.slice(x_image_train,[0,0,0,0],[10000, 28, 28, 1])\n",
        "y_train = tf.slice(y_train,[0,0],[10000, 10])"
      ],
      "metadata": {
        "execution": {
          "iopub.status.busy": "2024-06-28T09:10:32.761727Z",
          "iopub.execute_input": "2024-06-28T09:10:32.762763Z",
          "iopub.status.idle": "2024-06-28T09:10:32.773602Z",
          "shell.execute_reply.started": "2024-06-28T09:10:32.76272Z",
          "shell.execute_reply": "2024-06-28T09:10:32.772293Z"
        },
        "trusted": true,
        "id": "GpSK4RZYyZmf"
      },
      "execution_count": null,
      "outputs": []
    },
    {
      "cell_type": "code",
      "source": [
        "W_conv1 = tf.Variable(tf.random.truncated_normal([5, 5, 1, 32], stddev=0.1, seed=0))\n",
        "b_conv1 = tf.Variable(tf.constant(0.1, shape=[32]))"
      ],
      "metadata": {
        "execution": {
          "iopub.status.busy": "2024-06-28T09:10:42.60213Z",
          "iopub.execute_input": "2024-06-28T09:10:42.602551Z",
          "iopub.status.idle": "2024-06-28T09:10:42.619351Z",
          "shell.execute_reply.started": "2024-06-28T09:10:42.602518Z",
          "shell.execute_reply": "2024-06-28T09:10:42.617925Z"
        },
        "trusted": true,
        "id": "R2htLk7AyZmf"
      },
      "execution_count": null,
      "outputs": []
    },
    {
      "cell_type": "code",
      "source": [
        "def convolve1(x):\n",
        "    return(\n",
        "        tf.nn.conv2d(x, W_conv1, strides=[1, 1, 1, 1], padding='SAME') + b_conv1)"
      ],
      "metadata": {
        "execution": {
          "iopub.status.busy": "2024-06-28T09:10:56.281498Z",
          "iopub.execute_input": "2024-06-28T09:10:56.281939Z",
          "iopub.status.idle": "2024-06-28T09:10:56.289261Z",
          "shell.execute_reply.started": "2024-06-28T09:10:56.281905Z",
          "shell.execute_reply": "2024-06-28T09:10:56.287768Z"
        },
        "trusted": true,
        "id": "t10xWYvsyZmf"
      },
      "execution_count": null,
      "outputs": []
    },
    {
      "cell_type": "code",
      "source": [
        "def h_conv1(x): return(tf.nn.relu(convolve1(x)))"
      ],
      "metadata": {
        "execution": {
          "iopub.status.busy": "2024-06-28T09:11:07.352417Z",
          "iopub.execute_input": "2024-06-28T09:11:07.352877Z",
          "iopub.status.idle": "2024-06-28T09:11:07.35868Z",
          "shell.execute_reply.started": "2024-06-28T09:11:07.352844Z",
          "shell.execute_reply": "2024-06-28T09:11:07.357292Z"
        },
        "trusted": true,
        "id": "wxkxwnRtyZmf"
      },
      "execution_count": null,
      "outputs": []
    },
    {
      "cell_type": "code",
      "source": [
        "def conv1(x):\n",
        "    return tf.nn.max_pool(h_conv1(x), ksize=[1, 2, 2, 1],\n",
        "                          strides=[1, 2, 2, 1], padding='SAME')"
      ],
      "metadata": {
        "execution": {
          "iopub.status.busy": "2024-06-28T09:11:17.131656Z",
          "iopub.execute_input": "2024-06-28T09:11:17.132556Z",
          "iopub.status.idle": "2024-06-28T09:11:17.138757Z",
          "shell.execute_reply.started": "2024-06-28T09:11:17.132517Z",
          "shell.execute_reply": "2024-06-28T09:11:17.137446Z"
        },
        "trusted": true,
        "id": "QQGJxuBPyZmf"
      },
      "execution_count": null,
      "outputs": []
    },
    {
      "cell_type": "code",
      "source": [
        "W_conv2 = tf.Variable(tf.random.truncated_normal([5, 5, 32, 64], stddev=0.1, seed=1))\n",
        "b_conv2 = tf.Variable(tf.constant(0.1, shape=[64])) #need 64 biases for 64 outputs"
      ],
      "metadata": {
        "execution": {
          "iopub.status.busy": "2024-06-28T09:11:26.991862Z",
          "iopub.execute_input": "2024-06-28T09:11:26.992313Z",
          "iopub.status.idle": "2024-06-28T09:11:27.008359Z",
          "shell.execute_reply.started": "2024-06-28T09:11:26.99228Z",
          "shell.execute_reply": "2024-06-28T09:11:27.006718Z"
        },
        "trusted": true,
        "id": "xb20kxDEyZmg"
      },
      "execution_count": null,
      "outputs": []
    },
    {
      "cell_type": "code",
      "source": [
        "def convolve2(x):\n",
        "    return(\n",
        "    tf.nn.conv2d(conv1(x), W_conv2, strides=[1, 1, 1, 1], padding='SAME') + b_conv2)\n",
        "def h_conv2(x):  return tf.nn.relu(convolve2(x))\n",
        "def conv2(x): return tf.nn.max_pool(h_conv2(x), ksize=[1, 2, 2, 1], strides=[1, 2, 2, 1], padding='SAME')"
      ],
      "metadata": {
        "execution": {
          "iopub.status.busy": "2024-06-28T09:11:36.642058Z",
          "iopub.execute_input": "2024-06-28T09:11:36.642471Z",
          "iopub.status.idle": "2024-06-28T09:11:36.650213Z",
          "shell.execute_reply.started": "2024-06-28T09:11:36.64244Z",
          "shell.execute_reply": "2024-06-28T09:11:36.64887Z"
        },
        "trusted": true,
        "id": "YhIxCW88yZmg"
      },
      "execution_count": null,
      "outputs": []
    },
    {
      "cell_type": "code",
      "source": [
        "def layer2_matrix(x): return tf.reshape(conv2(x), [-1, 7 * 7 * 64])"
      ],
      "metadata": {
        "execution": {
          "iopub.status.busy": "2024-06-28T09:11:49.752354Z",
          "iopub.execute_input": "2024-06-28T09:11:49.752825Z",
          "iopub.status.idle": "2024-06-28T09:11:49.758942Z",
          "shell.execute_reply.started": "2024-06-28T09:11:49.752792Z",
          "shell.execute_reply": "2024-06-28T09:11:49.757533Z"
        },
        "trusted": true,
        "id": "k8opwA8EyZmh"
      },
      "execution_count": null,
      "outputs": []
    },
    {
      "cell_type": "code",
      "source": [
        "def fcl(x): return tf.matmul(layer2_matrix(x), W_fc1) + b_fc1\n",
        "def h_fc1(x): return tf.nn.relu(fcl(x))"
      ],
      "metadata": {
        "execution": {
          "iopub.status.busy": "2024-06-28T09:11:59.42189Z",
          "iopub.execute_input": "2024-06-28T09:11:59.422305Z",
          "iopub.status.idle": "2024-06-28T09:11:59.428841Z",
          "shell.execute_reply.started": "2024-06-28T09:11:59.422264Z",
          "shell.execute_reply": "2024-06-28T09:11:59.427637Z"
        },
        "trusted": true,
        "id": "wt8o9E8zyZmh"
      },
      "execution_count": null,
      "outputs": []
    },
    {
      "cell_type": "code",
      "source": [
        "W_fc1 = tf.Variable(tf.random.truncated_normal([7 * 7 * 64, 1024], stddev=0.1, seed = 2))\n",
        "b_fc1 = tf.Variable(tf.constant(0.1, shape=[1024]))"
      ],
      "metadata": {
        "execution": {
          "iopub.status.busy": "2024-06-28T09:12:08.902063Z",
          "iopub.execute_input": "2024-06-28T09:12:08.902487Z",
          "iopub.status.idle": "2024-06-28T09:12:08.955095Z",
          "shell.execute_reply.started": "2024-06-28T09:12:08.902454Z",
          "shell.execute_reply": "2024-06-28T09:12:08.953892Z"
        },
        "trusted": true,
        "id": "2Innx0qyyZmh"
      },
      "execution_count": null,
      "outputs": []
    },
    {
      "cell_type": "code",
      "source": [
        "keep_prob=0.5\n",
        "def layer_drop(x): return tf.nn.dropout(h_fc1(x), keep_prob)"
      ],
      "metadata": {
        "execution": {
          "iopub.status.busy": "2024-06-28T09:12:18.722437Z",
          "iopub.execute_input": "2024-06-28T09:12:18.722944Z",
          "iopub.status.idle": "2024-06-28T09:12:18.72922Z",
          "shell.execute_reply.started": "2024-06-28T09:12:18.722908Z",
          "shell.execute_reply": "2024-06-28T09:12:18.728061Z"
        },
        "trusted": true,
        "id": "2Yo3mZRIyZmi"
      },
      "execution_count": null,
      "outputs": []
    },
    {
      "cell_type": "code",
      "source": [
        "W_fc2 = tf.Variable(tf.random.truncated_normal([1024, 10], stddev=0.1, seed = 2)) #1024 neurons\n",
        "b_fc2 = tf.Variable(tf.constant(0.1, shape=[10]))"
      ],
      "metadata": {
        "execution": {
          "iopub.status.busy": "2024-06-28T09:12:26.462032Z",
          "iopub.execute_input": "2024-06-28T09:12:26.462482Z",
          "iopub.status.idle": "2024-06-28T09:12:26.474056Z",
          "shell.execute_reply.started": "2024-06-28T09:12:26.462449Z",
          "shell.execute_reply": "2024-06-28T09:12:26.472888Z"
        },
        "trusted": true,
        "id": "LjNEroLdyZmi"
      },
      "execution_count": null,
      "outputs": []
    },
    {
      "cell_type": "code",
      "source": [
        "def fc(x): return tf.matmul(layer_drop(x), W_fc2) + b_fc2\n",
        "def y_CNN(x): return tf.nn.softmax(fc(x))"
      ],
      "metadata": {
        "execution": {
          "iopub.status.busy": "2024-06-28T09:12:35.211663Z",
          "iopub.execute_input": "2024-06-28T09:12:35.21303Z",
          "iopub.status.idle": "2024-06-28T09:12:35.218861Z",
          "shell.execute_reply.started": "2024-06-28T09:12:35.212982Z",
          "shell.execute_reply": "2024-06-28T09:12:35.217597Z"
        },
        "trusted": true,
        "id": "dIQO-678yZmi"
      },
      "execution_count": null,
      "outputs": []
    },
    {
      "cell_type": "code",
      "source": [
        "def cross_entropy(y_label, y_pred):\n",
        "    return (-tf.reduce_sum(y_label * tf.math.log(y_pred + 1.e-10)))"
      ],
      "metadata": {
        "execution": {
          "iopub.status.busy": "2024-06-28T09:12:45.402097Z",
          "iopub.execute_input": "2024-06-28T09:12:45.402498Z",
          "iopub.status.idle": "2024-06-28T09:12:45.40835Z",
          "shell.execute_reply.started": "2024-06-28T09:12:45.40246Z",
          "shell.execute_reply": "2024-06-28T09:12:45.407138Z"
        },
        "trusted": true,
        "id": "GD0FkgNyyZms"
      },
      "execution_count": null,
      "outputs": []
    },
    {
      "cell_type": "code",
      "source": [
        "optimizer = tf.keras.optimizers.Adam(learning_rate=0.0001)"
      ],
      "metadata": {
        "execution": {
          "iopub.status.busy": "2024-06-28T09:12:54.152514Z",
          "iopub.execute_input": "2024-06-28T09:12:54.152943Z",
          "iopub.status.idle": "2024-06-28T09:12:54.163529Z",
          "shell.execute_reply.started": "2024-06-28T09:12:54.15291Z",
          "shell.execute_reply": "2024-06-28T09:12:54.162473Z"
        },
        "trusted": true,
        "id": "B3QOVC_VyZms"
      },
      "execution_count": null,
      "outputs": []
    },
    {
      "cell_type": "code",
      "source": [
        "variables = [W_conv1, b_conv1, W_conv2, b_conv2,\n",
        "             W_fc1, b_fc1, W_fc2, b_fc2, ]\n",
        "\n",
        "def train_step(x, y):\n",
        "    with tf.GradientTape() as tape:\n",
        "        current_loss = cross_entropy( y, y_CNN( x ))\n",
        "        grads = tape.gradient( current_loss , variables )\n",
        "        optimizer.apply_gradients( zip( grads , variables ) )\n",
        "        return current_loss.numpy()\n"
      ],
      "metadata": {
        "execution": {
          "iopub.status.busy": "2024-06-28T09:13:06.955224Z",
          "iopub.execute_input": "2024-06-28T09:13:06.95606Z",
          "iopub.status.idle": "2024-06-28T09:13:06.963274Z",
          "shell.execute_reply.started": "2024-06-28T09:13:06.956024Z",
          "shell.execute_reply": "2024-06-28T09:13:06.961961Z"
        },
        "trusted": true,
        "id": "Ve2nmT5XyZmt"
      },
      "execution_count": null,
      "outputs": []
    },
    {
      "cell_type": "code",
      "source": [
        "correct_prediction = tf.equal(tf.argmax(y_CNN(x_image_train), axis=1), tf.argmax(y_train, axis=1))"
      ],
      "metadata": {
        "execution": {
          "iopub.status.busy": "2024-06-28T09:13:19.752073Z",
          "iopub.execute_input": "2024-06-28T09:13:19.752462Z",
          "iopub.status.idle": "2024-06-28T09:13:25.09533Z",
          "shell.execute_reply.started": "2024-06-28T09:13:19.752432Z",
          "shell.execute_reply": "2024-06-28T09:13:25.093864Z"
        },
        "trusted": true,
        "id": "9nyhAEvsyZmt"
      },
      "execution_count": null,
      "outputs": []
    },
    {
      "cell_type": "code",
      "source": [
        "accuracy = tf.reduce_mean(tf.cast(correct_prediction, 'float32'))"
      ],
      "metadata": {
        "execution": {
          "iopub.status.busy": "2024-06-28T09:13:35.492125Z",
          "iopub.execute_input": "2024-06-28T09:13:35.492827Z",
          "iopub.status.idle": "2024-06-28T09:13:35.499777Z",
          "shell.execute_reply.started": "2024-06-28T09:13:35.492782Z",
          "shell.execute_reply": "2024-06-28T09:13:35.498459Z"
        },
        "trusted": true,
        "id": "aOPi-1jJyZmt"
      },
      "execution_count": null,
      "outputs": []
    },
    {
      "cell_type": "code",
      "source": [
        "loss_values=[]\n",
        "accuracies = []\n",
        "epochs = 2\n",
        "\n",
        "for i in range(epochs):\n",
        "    j=0\n",
        "    for x_train_batch, y_train_batch in train_ds2:\n",
        "        j+=1\n",
        "        current_loss = train_step(x_train_batch, y_train_batch)\n",
        "        if j%50==0:\n",
        "            correct_prediction = tf.equal(tf.argmax(y_CNN(x_train_batch), axis=1),\n",
        "                                  tf.argmax(y_train_batch, axis=1))\n",
        "\n",
        "            accuracy = tf.reduce_mean(tf.cast(correct_prediction, tf.float32)).numpy()\n",
        "            print(\"epoch \", str(i), \"batch\", str(j), \"loss:\", str(current_loss),\n",
        "                     \"accuracy\", str(accuracy))\n",
        "\n",
        "    current_loss = cross_entropy( y_train, y_CNN( x_image_train )).numpy()\n",
        "    loss_values.append(current_loss)\n",
        "    correct_prediction = tf.equal(tf.argmax(y_CNN(x_image_train), axis=1),\n",
        "                                  tf.argmax(y_train, axis=1))\n",
        "\n",
        "    accuracy = tf.reduce_mean(tf.cast(correct_prediction, tf.float32)).numpy()\n",
        "    accuracies.append(accuracy)\n",
        "    print(\"end of epoch \", str(i), \"loss\", str(current_loss), \"accuracy\", str(accuracy) )"
      ],
      "metadata": {
        "execution": {
          "iopub.status.busy": "2024-06-28T09:16:14.662335Z",
          "iopub.execute_input": "2024-06-28T09:16:14.662773Z",
          "iopub.status.idle": "2024-06-28T09:19:53.722365Z",
          "shell.execute_reply.started": "2024-06-28T09:16:14.662732Z",
          "shell.execute_reply": "2024-06-28T09:19:53.721007Z"
        },
        "trusted": true,
        "id": "6CsxrcN7yZmt"
      },
      "execution_count": null,
      "outputs": []
    },
    {
      "cell_type": "code",
      "source": [
        "j=0\n",
        "acccuracies=[]\n",
        "\n",
        "for x_train_batch, y_train_batch in train_ds2:\n",
        "        j+=1\n",
        "        correct_prediction = tf.equal(tf.argmax(y_CNN(x_train_batch), axis=1),\n",
        "                                  tf.argmax(y_train_batch, axis=1))\n",
        "        accuracy = tf.reduce_mean(tf.cast(correct_prediction, tf.float32)).numpy()\n",
        "\n",
        "        if j%100==0:\n",
        "            print(\"batch\", str(j), \"accuracy\", str(accuracy) )\n",
        "import numpy as np\n",
        "print(\"accuracy of entire set\", str(np.mean(accuracies)))"
      ],
      "metadata": {
        "execution": {
          "iopub.status.busy": "2024-06-28T09:19:58.931728Z",
          "iopub.execute_input": "2024-06-28T09:19:58.932143Z",
          "iopub.status.idle": "2024-06-28T09:20:17.526661Z",
          "shell.execute_reply.started": "2024-06-28T09:19:58.932113Z",
          "shell.execute_reply": "2024-06-28T09:20:17.525299Z"
        },
        "trusted": true,
        "id": "WgCqX3QSyZmu"
      },
      "execution_count": null,
      "outputs": []
    },
    {
      "cell_type": "code",
      "source": [
        "kernels = tf.reshape(tf.transpose(W_conv1, perm=[2, 3, 0,1]),[32, -1])"
      ],
      "metadata": {
        "execution": {
          "iopub.status.busy": "2024-06-28T09:20:28.232228Z",
          "iopub.execute_input": "2024-06-28T09:20:28.232652Z",
          "iopub.status.idle": "2024-06-28T09:20:28.242531Z",
          "shell.execute_reply.started": "2024-06-28T09:20:28.232619Z",
          "shell.execute_reply": "2024-06-28T09:20:28.241283Z"
        },
        "trusted": true,
        "id": "VGddsR83yZmu"
      },
      "execution_count": null,
      "outputs": []
    },
    {
      "cell_type": "code",
      "source": [
        "import numpy as np\n",
        "plt.rcParams['figure.figsize'] = (5.0, 5.0)\n",
        "sampleimage = [x_image_train[0]]\n",
        "plt.imshow(np.reshape(sampleimage,[28,28]), cmap=\"gray\")"
      ],
      "metadata": {
        "execution": {
          "iopub.status.busy": "2024-06-28T09:20:31.571697Z",
          "iopub.execute_input": "2024-06-28T09:20:31.572142Z",
          "iopub.status.idle": "2024-06-28T09:20:31.803058Z",
          "shell.execute_reply.started": "2024-06-28T09:20:31.57211Z",
          "shell.execute_reply": "2024-06-28T09:20:31.801639Z"
        },
        "trusted": true,
        "id": "JNxtdUFCyZmu"
      },
      "execution_count": null,
      "outputs": []
    },
    {
      "cell_type": "code",
      "source": [
        "\n",
        "keep_prob=1.0\n",
        "sampleimage = np.array(sampleimage)\n",
        "ActivatedUnits = convolve1(sampleimage)\n",
        "\n",
        "filters = ActivatedUnits.shape[3]\n",
        "plt.figure(1, figsize=(20,20))\n",
        "n_columns = 6\n",
        "n_rows = np.math.ceil(filters / n_columns) + 1\n",
        "for i in range(filters):\n",
        "    plt.subplot(n_rows, n_columns, i+1)\n",
        "    plt.title('Filter ' + str(i))\n",
        "    plt.imshow(ActivatedUnits[0,:,:,i], interpolation=\"nearest\", cmap=\"gray\")"
      ],
      "metadata": {
        "execution": {
          "iopub.status.busy": "2024-06-28T09:20:36.031655Z",
          "iopub.execute_input": "2024-06-28T09:20:36.032085Z",
          "iopub.status.idle": "2024-06-28T09:20:42.542127Z",
          "shell.execute_reply.started": "2024-06-28T09:20:36.032053Z",
          "shell.execute_reply": "2024-06-28T09:20:42.54092Z"
        },
        "trusted": true,
        "id": "f_8uOIJFyZmv"
      },
      "execution_count": null,
      "outputs": []
    },
    {
      "cell_type": "code",
      "source": [
        "\n",
        "sampleimage = np.array(sampleimage)\n",
        "ActivatedUnits = convolve2(sampleimage)\n",
        "filters = ActivatedUnits.shape[3]\n",
        "plt.figure(1, figsize=(20,20))\n",
        "n_columns = 8\n",
        "n_rows = np.math.ceil(filters / n_columns) + 1\n",
        "for i in range(filters):\n",
        "    plt.subplot(n_rows, n_columns, i+1)\n",
        "    plt.title('Filter ' + str(i))\n",
        "    plt.imshow(ActivatedUnits[0,:,:,i], interpolation=\"nearest\", cmap=\"gray\")"
      ],
      "metadata": {
        "execution": {
          "iopub.status.busy": "2024-06-28T09:21:02.381876Z",
          "iopub.execute_input": "2024-06-28T09:21:02.382307Z"
        },
        "trusted": true,
        "id": "4XSbH8CUyZmv"
      },
      "execution_count": null,
      "outputs": []
    },
    {
      "cell_type": "code",
      "source": [
        "X_test = pd.read_csv('/kaggle/input/digit-recognizer/test.csv')"
      ],
      "metadata": {
        "execution": {
          "iopub.status.busy": "2024-06-28T09:22:02.521206Z",
          "iopub.execute_input": "2024-06-28T09:22:02.521671Z",
          "iopub.status.idle": "2024-06-28T09:22:04.955242Z",
          "shell.execute_reply.started": "2024-06-28T09:22:02.521636Z",
          "shell.execute_reply": "2024-06-28T09:22:04.953739Z"
        },
        "trusted": true,
        "id": "zePAQnrCyZmv"
      },
      "execution_count": null,
      "outputs": []
    },
    {
      "cell_type": "code",
      "source": [
        "X_test"
      ],
      "metadata": {
        "execution": {
          "iopub.status.busy": "2024-06-28T09:33:06.04107Z",
          "iopub.execute_input": "2024-06-28T09:33:06.041473Z",
          "iopub.status.idle": "2024-06-28T09:33:06.06772Z",
          "shell.execute_reply.started": "2024-06-28T09:33:06.041444Z",
          "shell.execute_reply": "2024-06-28T09:33:06.066595Z"
        },
        "trusted": true,
        "id": "dLLbTWq3yZmv"
      },
      "execution_count": null,
      "outputs": []
    },
    {
      "cell_type": "code",
      "source": [
        "x_new_test = tf.cast(X_test, dtype=tf.float32)"
      ],
      "metadata": {
        "execution": {
          "iopub.status.busy": "2024-06-28T09:31:14.091085Z",
          "iopub.execute_input": "2024-06-28T09:31:14.09217Z",
          "iopub.status.idle": "2024-06-28T09:31:14.38479Z",
          "shell.execute_reply.started": "2024-06-28T09:31:14.092132Z",
          "shell.execute_reply": "2024-06-28T09:31:14.38337Z"
        },
        "trusted": true,
        "id": "E1knPqWQyZmw"
      },
      "execution_count": null,
      "outputs": []
    },
    {
      "cell_type": "code",
      "source": [
        "predictions = activate(x_new_test)\n",
        "\n",
        "\n",
        "predicted_digits = tf.argmax(predictions, axis=1)"
      ],
      "metadata": {
        "execution": {
          "iopub.status.busy": "2024-06-28T09:31:16.811243Z",
          "iopub.execute_input": "2024-06-28T09:31:16.811646Z",
          "iopub.status.idle": "2024-06-28T09:31:16.831409Z",
          "shell.execute_reply.started": "2024-06-28T09:31:16.811615Z",
          "shell.execute_reply": "2024-06-28T09:31:16.830321Z"
        },
        "trusted": true,
        "id": "8CGmXK7hyZmw"
      },
      "execution_count": null,
      "outputs": []
    },
    {
      "cell_type": "code",
      "source": [
        "predicted_digits_np_array = predicted_digits.numpy()"
      ],
      "metadata": {
        "execution": {
          "iopub.status.busy": "2024-06-28T09:32:53.201435Z",
          "iopub.execute_input": "2024-06-28T09:32:53.201883Z",
          "iopub.status.idle": "2024-06-28T09:32:53.207218Z",
          "shell.execute_reply.started": "2024-06-28T09:32:53.201823Z",
          "shell.execute_reply": "2024-06-28T09:32:53.205915Z"
        },
        "trusted": true,
        "id": "Hbt3gRr6yZmx"
      },
      "execution_count": null,
      "outputs": []
    },
    {
      "cell_type": "code",
      "source": [
        "predicted_digits_np_array"
      ],
      "metadata": {
        "execution": {
          "iopub.status.busy": "2024-06-28T09:33:00.278118Z",
          "iopub.execute_input": "2024-06-28T09:33:00.278511Z",
          "iopub.status.idle": "2024-06-28T09:33:00.286716Z",
          "shell.execute_reply.started": "2024-06-28T09:33:00.278483Z",
          "shell.execute_reply": "2024-06-28T09:33:00.285183Z"
        },
        "trusted": true,
        "id": "mEfZwy3UyZmx"
      },
      "execution_count": null,
      "outputs": []
    },
    {
      "cell_type": "code",
      "source": [
        "submission = pd.DataFrame({'ImageId': range(1, len(X_test) + 1), 'Label': predicted_digits_np_array})"
      ],
      "metadata": {
        "execution": {
          "iopub.status.busy": "2024-06-28T09:34:58.191131Z",
          "iopub.execute_input": "2024-06-28T09:34:58.191703Z",
          "iopub.status.idle": "2024-06-28T09:34:58.199278Z",
          "shell.execute_reply.started": "2024-06-28T09:34:58.191542Z",
          "shell.execute_reply": "2024-06-28T09:34:58.198019Z"
        },
        "trusted": true,
        "id": "HHSpgK_uyZmx"
      },
      "execution_count": null,
      "outputs": []
    },
    {
      "cell_type": "code",
      "source": [
        "submission"
      ],
      "metadata": {
        "execution": {
          "iopub.status.busy": "2024-06-28T09:35:05.871693Z",
          "iopub.execute_input": "2024-06-28T09:35:05.872732Z",
          "iopub.status.idle": "2024-06-28T09:35:05.884498Z",
          "shell.execute_reply.started": "2024-06-28T09:35:05.872699Z",
          "shell.execute_reply": "2024-06-28T09:35:05.8832Z"
        },
        "trusted": true,
        "id": "A3gvBjGbyZmx"
      },
      "execution_count": null,
      "outputs": []
    },
    {
      "cell_type": "code",
      "source": [
        "submission.to_csv('submission.csv', index=False)"
      ],
      "metadata": {
        "execution": {
          "iopub.status.busy": "2024-06-28T09:36:32.43023Z",
          "iopub.execute_input": "2024-06-28T09:36:32.430608Z",
          "iopub.status.idle": "2024-06-28T09:36:32.477134Z",
          "shell.execute_reply.started": "2024-06-28T09:36:32.430579Z",
          "shell.execute_reply": "2024-06-28T09:36:32.475988Z"
        },
        "trusted": true,
        "id": "Pz39V7glyZmy"
      },
      "execution_count": null,
      "outputs": []
    }
  ]
}